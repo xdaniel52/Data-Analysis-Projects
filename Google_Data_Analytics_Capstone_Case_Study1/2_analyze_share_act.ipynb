{
 "cells": [
  {
   "attachments": {},
   "cell_type": "markdown",
   "metadata": {},
   "source": [
    "Reminder: \n",
    "\n",
    "\n",
    "Key question:\n",
    "\n",
    "- \"How do annual members and casual riders use Cyclistic bikes differently?\"\n",
    "\n",
    "Task:\n",
    "\n",
    "- Finding differences between casual riders and annual members as well as how they are using bikes."
   ]
  },
  {
   "attachments": {},
   "cell_type": "markdown",
   "metadata": {},
   "source": [
    "Imports"
   ]
  },
  {
   "cell_type": "code",
   "execution_count": 103,
   "metadata": {},
   "outputs": [],
   "source": [
    "import pandas as pd\n",
    "import numpy as np\n",
    "import matplotlib.pyplot as plt\n"
   ]
  },
  {
   "attachments": {},
   "cell_type": "markdown",
   "metadata": {},
   "source": [
    "Importing data prepared by process notebook"
   ]
  },
  {
   "cell_type": "code",
   "execution_count": 104,
   "metadata": {},
   "outputs": [],
   "source": [
    "df = pd.read_parquet(\"data/preprocessed/dataset.parquet\")"
   ]
  },
  {
   "cell_type": "code",
   "execution_count": 105,
   "metadata": {},
   "outputs": [
    {
     "data": {
      "text/html": [
       "<div>\n",
       "<style scoped>\n",
       "    .dataframe tbody tr th:only-of-type {\n",
       "        vertical-align: middle;\n",
       "    }\n",
       "\n",
       "    .dataframe tbody tr th {\n",
       "        vertical-align: top;\n",
       "    }\n",
       "\n",
       "    .dataframe thead th {\n",
       "        text-align: right;\n",
       "    }\n",
       "</style>\n",
       "<table border=\"1\" class=\"dataframe\">\n",
       "  <thead>\n",
       "    <tr style=\"text-align: right;\">\n",
       "      <th></th>\n",
       "      <th>rideable_type</th>\n",
       "      <th>started_at</th>\n",
       "      <th>ended_at</th>\n",
       "      <th>start_station_name</th>\n",
       "      <th>start_station_id</th>\n",
       "      <th>end_station_name</th>\n",
       "      <th>end_station_id</th>\n",
       "      <th>is_member</th>\n",
       "      <th>duration</th>\n",
       "      <th>distance</th>\n",
       "      <th>started_time</th>\n",
       "      <th>week_day</th>\n",
       "      <th>month</th>\n",
       "      <th>day_of_year</th>\n",
       "      <th>day</th>\n",
       "    </tr>\n",
       "    <tr>\n",
       "      <th>index</th>\n",
       "      <th></th>\n",
       "      <th></th>\n",
       "      <th></th>\n",
       "      <th></th>\n",
       "      <th></th>\n",
       "      <th></th>\n",
       "      <th></th>\n",
       "      <th></th>\n",
       "      <th></th>\n",
       "      <th></th>\n",
       "      <th></th>\n",
       "      <th></th>\n",
       "      <th></th>\n",
       "      <th></th>\n",
       "      <th></th>\n",
       "    </tr>\n",
       "  </thead>\n",
       "  <tbody>\n",
       "    <tr>\n",
       "      <th>0</th>\n",
       "      <td>electric_bike</td>\n",
       "      <td>2022-01-13 11:59:47</td>\n",
       "      <td>2022-01-13 12:02:44</td>\n",
       "      <td>Glenwood Ave &amp; Touhy Ave</td>\n",
       "      <td>525</td>\n",
       "      <td>Clark St &amp; Touhy Ave</td>\n",
       "      <td>RP-007</td>\n",
       "      <td>False</td>\n",
       "      <td>2.950000</td>\n",
       "      <td>699.546753</td>\n",
       "      <td>12.000000</td>\n",
       "      <td>3</td>\n",
       "      <td>1</td>\n",
       "      <td>13</td>\n",
       "      <td>13</td>\n",
       "    </tr>\n",
       "    <tr>\n",
       "      <th>1</th>\n",
       "      <td>electric_bike</td>\n",
       "      <td>2022-01-10 08:41:56</td>\n",
       "      <td>2022-01-10 08:46:17</td>\n",
       "      <td>Glenwood Ave &amp; Touhy Ave</td>\n",
       "      <td>525</td>\n",
       "      <td>Clark St &amp; Touhy Ave</td>\n",
       "      <td>RP-007</td>\n",
       "      <td>False</td>\n",
       "      <td>4.350000</td>\n",
       "      <td>694.321716</td>\n",
       "      <td>8.695312</td>\n",
       "      <td>0</td>\n",
       "      <td>1</td>\n",
       "      <td>10</td>\n",
       "      <td>10</td>\n",
       "    </tr>\n",
       "    <tr>\n",
       "      <th>2</th>\n",
       "      <td>classic_bike</td>\n",
       "      <td>2022-01-25 04:53:40</td>\n",
       "      <td>2022-01-25 04:58:01</td>\n",
       "      <td>Sheffield Ave &amp; Fullerton Ave</td>\n",
       "      <td>TA1306000016</td>\n",
       "      <td>Greenview Ave &amp; Fullerton Ave</td>\n",
       "      <td>TA1307000001</td>\n",
       "      <td>True</td>\n",
       "      <td>4.350000</td>\n",
       "      <td>1000.832275</td>\n",
       "      <td>4.894531</td>\n",
       "      <td>1</td>\n",
       "      <td>1</td>\n",
       "      <td>25</td>\n",
       "      <td>25</td>\n",
       "    </tr>\n",
       "    <tr>\n",
       "      <th>3</th>\n",
       "      <td>classic_bike</td>\n",
       "      <td>2022-01-04 00:18:04</td>\n",
       "      <td>2022-01-04 00:33:00</td>\n",
       "      <td>Clark St &amp; Bryn Mawr Ave</td>\n",
       "      <td>KA1504000151</td>\n",
       "      <td>Paulina St &amp; Montrose Ave</td>\n",
       "      <td>TA1309000021</td>\n",
       "      <td>False</td>\n",
       "      <td>14.933333</td>\n",
       "      <td>2462.779297</td>\n",
       "      <td>0.301025</td>\n",
       "      <td>1</td>\n",
       "      <td>1</td>\n",
       "      <td>4</td>\n",
       "      <td>4</td>\n",
       "    </tr>\n",
       "    <tr>\n",
       "      <th>4</th>\n",
       "      <td>classic_bike</td>\n",
       "      <td>2022-01-20 01:31:10</td>\n",
       "      <td>2022-01-20 01:37:12</td>\n",
       "      <td>Michigan Ave &amp; Jackson Blvd</td>\n",
       "      <td>TA1309000002</td>\n",
       "      <td>State St &amp; Randolph St</td>\n",
       "      <td>TA1305000029</td>\n",
       "      <td>True</td>\n",
       "      <td>6.033333</td>\n",
       "      <td>814.537720</td>\n",
       "      <td>1.519531</td>\n",
       "      <td>3</td>\n",
       "      <td>1</td>\n",
       "      <td>20</td>\n",
       "      <td>20</td>\n",
       "    </tr>\n",
       "  </tbody>\n",
       "</table>\n",
       "</div>"
      ],
      "text/plain": [
       "       rideable_type          started_at            ended_at  \\\n",
       "index                                                          \n",
       "0      electric_bike 2022-01-13 11:59:47 2022-01-13 12:02:44   \n",
       "1      electric_bike 2022-01-10 08:41:56 2022-01-10 08:46:17   \n",
       "2       classic_bike 2022-01-25 04:53:40 2022-01-25 04:58:01   \n",
       "3       classic_bike 2022-01-04 00:18:04 2022-01-04 00:33:00   \n",
       "4       classic_bike 2022-01-20 01:31:10 2022-01-20 01:37:12   \n",
       "\n",
       "                  start_station_name start_station_id  \\\n",
       "index                                                   \n",
       "0           Glenwood Ave & Touhy Ave              525   \n",
       "1           Glenwood Ave & Touhy Ave              525   \n",
       "2      Sheffield Ave & Fullerton Ave     TA1306000016   \n",
       "3           Clark St & Bryn Mawr Ave     KA1504000151   \n",
       "4        Michigan Ave & Jackson Blvd     TA1309000002   \n",
       "\n",
       "                    end_station_name end_station_id  is_member   duration  \\\n",
       "index                                                                       \n",
       "0               Clark St & Touhy Ave         RP-007      False   2.950000   \n",
       "1               Clark St & Touhy Ave         RP-007      False   4.350000   \n",
       "2      Greenview Ave & Fullerton Ave   TA1307000001       True   4.350000   \n",
       "3          Paulina St & Montrose Ave   TA1309000021      False  14.933333   \n",
       "4             State St & Randolph St   TA1305000029       True   6.033333   \n",
       "\n",
       "          distance  started_time  week_day  month  day_of_year  day  \n",
       "index                                                                \n",
       "0       699.546753     12.000000         3      1           13   13  \n",
       "1       694.321716      8.695312         0      1           10   10  \n",
       "2      1000.832275      4.894531         1      1           25   25  \n",
       "3      2462.779297      0.301025         1      1            4    4  \n",
       "4       814.537720      1.519531         3      1           20   20  "
      ]
     },
     "execution_count": 105,
     "metadata": {},
     "output_type": "execute_result"
    }
   ],
   "source": [
    "df.head()"
   ]
  },
  {
   "attachments": {},
   "cell_type": "markdown",
   "metadata": {},
   "source": [
    "Define functions"
   ]
  },
  {
   "cell_type": "code",
   "execution_count": 106,
   "metadata": {},
   "outputs": [],
   "source": [
    "def plot_dwo_bars(first_data, second_data, labels, colors, plotText, subText1, subText2):\n",
    "    \n",
    "    first_data = first_data /sum(first_data)\n",
    "    second_data = second_data /sum(second_data)\n",
    "\n",
    "    fig = plt.figure(figsize = (15,5))\n",
    "    ax = fig.add_subplot(1,1,1)\n",
    "\n",
    "    ind = np.arange(len(labels))\n",
    "    width = 0.35 \n",
    "\n",
    "    rects1 = ax.bar(ind, first_data, width, color=colors[0])\n",
    "\n",
    "    rects2 = ax.bar(ind+width, second_data, width, color=colors[1])\n",
    "\n",
    "    ax.set_ylabel('Percent')\n",
    "    ax.set_xticks(ind + width / 2)\n",
    "    ax.set_xticklabels( labels)\n",
    "    ax.legend( (rects1[0], rects2[0]), (subText1, subText2) )\n",
    "    fig.text(0.5, 1.01, plotText, ha='center', fontsize = 18)"
   ]
  },
  {
   "cell_type": "code",
   "execution_count": 107,
   "metadata": {},
   "outputs": [
    {
     "name": "stdout",
     "output_type": "stream",
     "text": [
      "Members' rides percent: 60.0\n",
      "Casuals' rides percent: 40.0\n"
     ]
    }
   ],
   "source": [
    "percent_of_members = round(sum(df[\"is_member\"]==True) / len(df),2)\n",
    "print(f\"Members' rides percent: {percent_of_members*100}\\nCasuals' rides percent: {round(1-percent_of_members,2)*100}\")"
   ]
  },
  {
   "attachments": {},
   "cell_type": "markdown",
   "metadata": {},
   "source": [
    "Comparison of rideable types"
   ]
  },
  {
   "cell_type": "code",
   "execution_count": 108,
   "metadata": {},
   "outputs": [
    {
     "name": "stdout",
     "output_type": "stream",
     "text": [
      "rideable_type\n",
      "classic_bike     0.655709\n",
      "docked_bike      0.000000\n",
      "electric_bike    0.344291\n",
      "Name: started_at, dtype: float64\n",
      "rideable_type\n",
      "classic_bike     0.505812\n",
      "docked_bike      0.099834\n",
      "electric_bike    0.394354\n",
      "Name: started_at, dtype: float64\n"
     ]
    },
    {
     "data": {
      "image/png": "[encoded data removed]",
      "text/plain": [
       "<Figure size 1500x500 with 1 Axes>"
      ]
     },
     "metadata": {},
     "output_type": "display_data"
    }
   ],
   "source": [
    "grouped = df.groupby(by=[\"is_member\",\"rideable_type\"])[\"started_at\"].count()\n",
    "\n",
    "print(grouped[True] /sum(grouped[True]))\n",
    "print(grouped[False] /sum(grouped[False]))\n",
    "\n",
    "plot_dwo_bars(grouped[True].values,grouped[False].values,[\"Classic\",\"Docked\",\"Electric\"],['blue','red'], \"Bike types used by members and casuals\", \"members\", \"casuals\")"
   ]
  },
  {
   "attachments": {},
   "cell_type": "markdown",
   "metadata": {},
   "source": [
    "Average duration of ride"
   ]
  },
  {
   "cell_type": "code",
   "execution_count": 109,
   "metadata": {},
   "outputs": [
    {
     "name": "stdout",
     "output_type": "stream",
     "text": [
      "Average ride duration:\n",
      "Members: 13 minutes\n",
      "Casuals: 24 minutes\n"
     ]
    }
   ],
   "source": [
    "grouped = df.groupby(by=[\"is_member\"])[\"duration\"].mean()\n",
    "print(\"Average ride duration:\")\n",
    "print(f\"Members: {round(grouped[True])} minutes\")\n",
    "print(f\"Casuals: {round(grouped[False])} minutes\")"
   ]
  },
  {
   "attachments": {},
   "cell_type": "markdown",
   "metadata": {},
   "source": [
    "Average distance of ride (distance between start point and end point)"
   ]
  },
  {
   "cell_type": "code",
   "execution_count": 110,
   "metadata": {},
   "outputs": [
    {
     "name": "stdout",
     "output_type": "stream",
     "text": [
      "Average ride distance: (distance between start point and end point)\n",
      "Members: 2090 meters\n",
      "Casuals: 2181 meters\n"
     ]
    }
   ],
   "source": [
    "grouped = df.groupby(by=[\"is_member\"])[\"distance\"].mean()\n",
    "print(\"Average ride distance: (distance between start point and end point)\")\n",
    "print(f\"Members: {round(grouped[True])} meters\")\n",
    "print(f\"Casuals: {round(grouped[False])} meters\")"
   ]
  },
  {
   "attachments": {},
   "cell_type": "markdown",
   "metadata": {},
   "source": [
    "Stations analysis"
   ]
  },
  {
   "cell_type": "code",
   "execution_count": 111,
   "metadata": {},
   "outputs": [],
   "source": [
    "grouped = df.groupby(by=[\"start_station_name\",\"is_member\"]).agg({\"started_at\": ['count']})[\"started_at\"][\"count\"]\n",
    "grouped_stations = pd.DataFrame(index=grouped.index.get_level_values(0).unique(),data=zip(grouped[:,True].values,grouped[:,False].values),columns=[\"members\",\"casuals\"])"
   ]
  },
  {
   "attachments": {},
   "cell_type": "markdown",
   "metadata": {},
   "source": [
    "List of most used stations as a start station"
   ]
  },
  {
   "cell_type": "code",
   "execution_count": 112,
   "metadata": {},
   "outputs": [
    {
     "data": {
      "text/html": [
       "<div>\n",
       "<style scoped>\n",
       "    .dataframe tbody tr th:only-of-type {\n",
       "        vertical-align: middle;\n",
       "    }\n",
       "\n",
       "    .dataframe tbody tr th {\n",
       "        vertical-align: top;\n",
       "    }\n",
       "\n",
       "    .dataframe thead th {\n",
       "        text-align: right;\n",
       "    }\n",
       "</style>\n",
       "<table border=\"1\" class=\"dataframe\">\n",
       "  <thead>\n",
       "    <tr style=\"text-align: right;\">\n",
       "      <th></th>\n",
       "      <th>members</th>\n",
       "      <th>casuals</th>\n",
       "    </tr>\n",
       "    <tr>\n",
       "      <th>start_station_name</th>\n",
       "      <th></th>\n",
       "      <th></th>\n",
       "    </tr>\n",
       "  </thead>\n",
       "  <tbody>\n",
       "    <tr>\n",
       "      <th>Kingsbury St &amp; Kinzie St</th>\n",
       "      <td>23266</td>\n",
       "      <td>8034</td>\n",
       "    </tr>\n",
       "    <tr>\n",
       "      <th>Clark St &amp; Elm St</th>\n",
       "      <td>20315</td>\n",
       "      <td>11881</td>\n",
       "    </tr>\n",
       "    <tr>\n",
       "      <th>Wells St &amp; Concord Ln</th>\n",
       "      <td>19457</td>\n",
       "      <td>14721</td>\n",
       "    </tr>\n",
       "    <tr>\n",
       "      <th>Clinton St &amp; Washington Blvd</th>\n",
       "      <td>18626</td>\n",
       "      <td>5289</td>\n",
       "    </tr>\n",
       "    <tr>\n",
       "      <th>Loomis St &amp; Lexington St</th>\n",
       "      <td>17970</td>\n",
       "      <td>2770</td>\n",
       "    </tr>\n",
       "    <tr>\n",
       "      <th>Clinton St &amp; Madison St</th>\n",
       "      <td>17821</td>\n",
       "      <td>6657</td>\n",
       "    </tr>\n",
       "    <tr>\n",
       "      <th>University Ave &amp; 57th St</th>\n",
       "      <td>17331</td>\n",
       "      <td>4889</td>\n",
       "    </tr>\n",
       "    <tr>\n",
       "      <th>Wells St &amp; Elm St</th>\n",
       "      <td>17318</td>\n",
       "      <td>11405</td>\n",
       "    </tr>\n",
       "    <tr>\n",
       "      <th>Ellis Ave &amp; 60th St</th>\n",
       "      <td>17277</td>\n",
       "      <td>4173</td>\n",
       "    </tr>\n",
       "    <tr>\n",
       "      <th>Broadway &amp; Barry Ave</th>\n",
       "      <td>15999</td>\n",
       "      <td>10556</td>\n",
       "    </tr>\n",
       "  </tbody>\n",
       "</table>\n",
       "</div>"
      ],
      "text/plain": [
       "                              members  casuals\n",
       "start_station_name                            \n",
       "Kingsbury St & Kinzie St        23266     8034\n",
       "Clark St & Elm St               20315    11881\n",
       "Wells St & Concord Ln           19457    14721\n",
       "Clinton St & Washington Blvd    18626     5289\n",
       "Loomis St & Lexington St        17970     2770\n",
       "Clinton St & Madison St         17821     6657\n",
       "University Ave & 57th St        17331     4889\n",
       "Wells St & Elm St               17318    11405\n",
       "Ellis Ave & 60th St             17277     4173\n",
       "Broadway & Barry Ave            15999    10556"
      ]
     },
     "execution_count": 112,
     "metadata": {},
     "output_type": "execute_result"
    }
   ],
   "source": [
    "grouped_stations.sort_values(\"members\",ascending=False).head(10)"
   ]
  },
  {
   "cell_type": "code",
   "execution_count": 113,
   "metadata": {},
   "outputs": [
    {
     "data": {
      "text/html": [
       "<div>\n",
       "<style scoped>\n",
       "    .dataframe tbody tr th:only-of-type {\n",
       "        vertical-align: middle;\n",
       "    }\n",
       "\n",
       "    .dataframe tbody tr th {\n",
       "        vertical-align: top;\n",
       "    }\n",
       "\n",
       "    .dataframe thead th {\n",
       "        text-align: right;\n",
       "    }\n",
       "</style>\n",
       "<table border=\"1\" class=\"dataframe\">\n",
       "  <thead>\n",
       "    <tr style=\"text-align: right;\">\n",
       "      <th></th>\n",
       "      <th>members</th>\n",
       "      <th>casuals</th>\n",
       "    </tr>\n",
       "    <tr>\n",
       "      <th>start_station_name</th>\n",
       "      <th></th>\n",
       "      <th></th>\n",
       "    </tr>\n",
       "  </thead>\n",
       "  <tbody>\n",
       "    <tr>\n",
       "      <th>Streeter Dr &amp; Grand Ave</th>\n",
       "      <td>15963</td>\n",
       "      <td>54544</td>\n",
       "    </tr>\n",
       "    <tr>\n",
       "      <th>DuSable Lake Shore Dr &amp; Monroe St</th>\n",
       "      <td>8857</td>\n",
       "      <td>30000</td>\n",
       "    </tr>\n",
       "    <tr>\n",
       "      <th>Millennium Park</th>\n",
       "      <td>8780</td>\n",
       "      <td>23751</td>\n",
       "    </tr>\n",
       "    <tr>\n",
       "      <th>Michigan Ave &amp; Oak St</th>\n",
       "      <td>13294</td>\n",
       "      <td>23569</td>\n",
       "    </tr>\n",
       "    <tr>\n",
       "      <th>DuSable Lake Shore Dr &amp; North Blvd</th>\n",
       "      <td>15340</td>\n",
       "      <td>21970</td>\n",
       "    </tr>\n",
       "    <tr>\n",
       "      <th>Shedd Aquarium</th>\n",
       "      <td>4531</td>\n",
       "      <td>19261</td>\n",
       "    </tr>\n",
       "    <tr>\n",
       "      <th>Theater on the Lake</th>\n",
       "      <td>13774</td>\n",
       "      <td>17220</td>\n",
       "    </tr>\n",
       "    <tr>\n",
       "      <th>Wells St &amp; Concord Ln</th>\n",
       "      <td>19457</td>\n",
       "      <td>14721</td>\n",
       "    </tr>\n",
       "    <tr>\n",
       "      <th>Dusable Harbor</th>\n",
       "      <td>4923</td>\n",
       "      <td>13175</td>\n",
       "    </tr>\n",
       "    <tr>\n",
       "      <th>Clark St &amp; Armitage Ave</th>\n",
       "      <td>13972</td>\n",
       "      <td>12683</td>\n",
       "    </tr>\n",
       "  </tbody>\n",
       "</table>\n",
       "</div>"
      ],
      "text/plain": [
       "                                    members  casuals\n",
       "start_station_name                                  \n",
       "Streeter Dr & Grand Ave               15963    54544\n",
       "DuSable Lake Shore Dr & Monroe St      8857    30000\n",
       "Millennium Park                        8780    23751\n",
       "Michigan Ave & Oak St                 13294    23569\n",
       "DuSable Lake Shore Dr & North Blvd    15340    21970\n",
       "Shedd Aquarium                         4531    19261\n",
       "Theater on the Lake                   13774    17220\n",
       "Wells St & Concord Ln                 19457    14721\n",
       "Dusable Harbor                         4923    13175\n",
       "Clark St & Armitage Ave               13972    12683"
      ]
     },
     "execution_count": 113,
     "metadata": {},
     "output_type": "execute_result"
    }
   ],
   "source": [
    "grouped_stations.sort_values(\"casuals\",ascending=False).head(10)"
   ]
  },
  {
   "attachments": {},
   "cell_type": "markdown",
   "metadata": {},
   "source": [
    "List of most used stations as an end station"
   ]
  },
  {
   "cell_type": "code",
   "execution_count": 114,
   "metadata": {},
   "outputs": [],
   "source": [
    "grouped = df.groupby(by=[\"end_station_name\",\"is_member\"]).agg({\"started_at\": ['count']})[\"started_at\"][\"count\"]\n",
    "grouped_stations = pd.DataFrame(index=grouped.index.get_level_values(0).unique(),data=zip(grouped[:,True].values,grouped[:,False].values),columns=[\"members\",\"casuals\"])"
   ]
  },
  {
   "cell_type": "code",
   "execution_count": 115,
   "metadata": {},
   "outputs": [
    {
     "data": {
      "text/html": [
       "<div>\n",
       "<style scoped>\n",
       "    .dataframe tbody tr th:only-of-type {\n",
       "        vertical-align: middle;\n",
       "    }\n",
       "\n",
       "    .dataframe tbody tr th {\n",
       "        vertical-align: top;\n",
       "    }\n",
       "\n",
       "    .dataframe thead th {\n",
       "        text-align: right;\n",
       "    }\n",
       "</style>\n",
       "<table border=\"1\" class=\"dataframe\">\n",
       "  <thead>\n",
       "    <tr style=\"text-align: right;\">\n",
       "      <th></th>\n",
       "      <th>members</th>\n",
       "      <th>casuals</th>\n",
       "    </tr>\n",
       "    <tr>\n",
       "      <th>end_station_name</th>\n",
       "      <th></th>\n",
       "      <th></th>\n",
       "    </tr>\n",
       "  </thead>\n",
       "  <tbody>\n",
       "    <tr>\n",
       "      <th>Kingsbury St &amp; Kinzie St</th>\n",
       "      <td>22956</td>\n",
       "      <td>7181</td>\n",
       "    </tr>\n",
       "    <tr>\n",
       "      <th>Clark St &amp; Elm St</th>\n",
       "      <td>20660</td>\n",
       "      <td>11235</td>\n",
       "    </tr>\n",
       "    <tr>\n",
       "      <th>Wells St &amp; Concord Ln</th>\n",
       "      <td>20056</td>\n",
       "      <td>14303</td>\n",
       "    </tr>\n",
       "    <tr>\n",
       "      <th>Clinton St &amp; Washington Blvd</th>\n",
       "      <td>19294</td>\n",
       "      <td>4610</td>\n",
       "    </tr>\n",
       "    <tr>\n",
       "      <th>Clinton St &amp; Madison St</th>\n",
       "      <td>18334</td>\n",
       "      <td>6465</td>\n",
       "    </tr>\n",
       "    <tr>\n",
       "      <th>University Ave &amp; 57th St</th>\n",
       "      <td>18189</td>\n",
       "      <td>4941</td>\n",
       "    </tr>\n",
       "    <tr>\n",
       "      <th>Loomis St &amp; Lexington St</th>\n",
       "      <td>17783</td>\n",
       "      <td>2653</td>\n",
       "    </tr>\n",
       "    <tr>\n",
       "      <th>Wells St &amp; Elm St</th>\n",
       "      <td>17289</td>\n",
       "      <td>10801</td>\n",
       "    </tr>\n",
       "    <tr>\n",
       "      <th>Ellis Ave &amp; 60th St</th>\n",
       "      <td>17092</td>\n",
       "      <td>4238</td>\n",
       "    </tr>\n",
       "    <tr>\n",
       "      <th>Broadway &amp; Barry Ave</th>\n",
       "      <td>16342</td>\n",
       "      <td>10812</td>\n",
       "    </tr>\n",
       "  </tbody>\n",
       "</table>\n",
       "</div>"
      ],
      "text/plain": [
       "                              members  casuals\n",
       "end_station_name                              \n",
       "Kingsbury St & Kinzie St        22956     7181\n",
       "Clark St & Elm St               20660    11235\n",
       "Wells St & Concord Ln           20056    14303\n",
       "Clinton St & Washington Blvd    19294     4610\n",
       "Clinton St & Madison St         18334     6465\n",
       "University Ave & 57th St        18189     4941\n",
       "Loomis St & Lexington St        17783     2653\n",
       "Wells St & Elm St               17289    10801\n",
       "Ellis Ave & 60th St             17092     4238\n",
       "Broadway & Barry Ave            16342    10812"
      ]
     },
     "execution_count": 115,
     "metadata": {},
     "output_type": "execute_result"
    }
   ],
   "source": [
    "grouped_stations.sort_values(\"members\",ascending=False).head(10)"
   ]
  },
  {
   "cell_type": "code",
   "execution_count": 116,
   "metadata": {},
   "outputs": [
    {
     "data": {
      "text/html": [
       "<div>\n",
       "<style scoped>\n",
       "    .dataframe tbody tr th:only-of-type {\n",
       "        vertical-align: middle;\n",
       "    }\n",
       "\n",
       "    .dataframe tbody tr th {\n",
       "        vertical-align: top;\n",
       "    }\n",
       "\n",
       "    .dataframe thead th {\n",
       "        text-align: right;\n",
       "    }\n",
       "</style>\n",
       "<table border=\"1\" class=\"dataframe\">\n",
       "  <thead>\n",
       "    <tr style=\"text-align: right;\">\n",
       "      <th></th>\n",
       "      <th>members</th>\n",
       "      <th>casuals</th>\n",
       "    </tr>\n",
       "    <tr>\n",
       "      <th>end_station_name</th>\n",
       "      <th></th>\n",
       "      <th></th>\n",
       "    </tr>\n",
       "  </thead>\n",
       "  <tbody>\n",
       "    <tr>\n",
       "      <th>Streeter Dr &amp; Grand Ave</th>\n",
       "      <td>14485</td>\n",
       "      <td>57296</td>\n",
       "    </tr>\n",
       "    <tr>\n",
       "      <th>DuSable Lake Shore Dr &amp; Monroe St</th>\n",
       "      <td>9825</td>\n",
       "      <td>28281</td>\n",
       "    </tr>\n",
       "    <tr>\n",
       "      <th>Millennium Park</th>\n",
       "      <td>7911</td>\n",
       "      <td>25478</td>\n",
       "    </tr>\n",
       "    <tr>\n",
       "      <th>Michigan Ave &amp; Oak St</th>\n",
       "      <td>12753</td>\n",
       "      <td>25181</td>\n",
       "    </tr>\n",
       "    <tr>\n",
       "      <th>DuSable Lake Shore Dr &amp; North Blvd</th>\n",
       "      <td>15057</td>\n",
       "      <td>25119</td>\n",
       "    </tr>\n",
       "    <tr>\n",
       "      <th>Theater on the Lake</th>\n",
       "      <td>12848</td>\n",
       "      <td>18536</td>\n",
       "    </tr>\n",
       "    <tr>\n",
       "      <th>Shedd Aquarium</th>\n",
       "      <td>5181</td>\n",
       "      <td>17887</td>\n",
       "    </tr>\n",
       "    <tr>\n",
       "      <th>Wells St &amp; Concord Ln</th>\n",
       "      <td>20056</td>\n",
       "      <td>14303</td>\n",
       "    </tr>\n",
       "    <tr>\n",
       "      <th>Clark St &amp; Armitage Ave</th>\n",
       "      <td>13917</td>\n",
       "      <td>12935</td>\n",
       "    </tr>\n",
       "    <tr>\n",
       "      <th>Clark St &amp; Lincoln Ave</th>\n",
       "      <td>12444</td>\n",
       "      <td>12775</td>\n",
       "    </tr>\n",
       "  </tbody>\n",
       "</table>\n",
       "</div>"
      ],
      "text/plain": [
       "                                    members  casuals\n",
       "end_station_name                                    \n",
       "Streeter Dr & Grand Ave               14485    57296\n",
       "DuSable Lake Shore Dr & Monroe St      9825    28281\n",
       "Millennium Park                        7911    25478\n",
       "Michigan Ave & Oak St                 12753    25181\n",
       "DuSable Lake Shore Dr & North Blvd    15057    25119\n",
       "Theater on the Lake                   12848    18536\n",
       "Shedd Aquarium                         5181    17887\n",
       "Wells St & Concord Ln                 20056    14303\n",
       "Clark St & Armitage Ave               13917    12935\n",
       "Clark St & Lincoln Ave                12444    12775"
      ]
     },
     "execution_count": 116,
     "metadata": {},
     "output_type": "execute_result"
    }
   ],
   "source": [
    "grouped_stations.sort_values(\"casuals\",ascending=False).head(10)"
   ]
  },
  {
   "attachments": {},
   "cell_type": "markdown",
   "metadata": {},
   "source": [
    "Analysis of what hours members and casuals use bikes"
   ]
  },
  {
   "cell_type": "code",
   "execution_count": 117,
   "metadata": {},
   "outputs": [],
   "source": [
    "df = pd.read_parquet(\"data/preprocessed/dataset.parquet\")"
   ]
  },
  {
   "cell_type": "code",
   "execution_count": 118,
   "metadata": {},
   "outputs": [],
   "source": [
    "bins=24\n",
    "colors = [\"blue\",\"red\"]"
   ]
  },
  {
   "cell_type": "code",
   "execution_count": 119,
   "metadata": {},
   "outputs": [
    {
     "data": {
      "image/png": "[encoded data removed]",
      "text/plain": [
       "<Figure size 1200x600 with 1 Axes>"
      ]
     },
     "metadata": {},
     "output_type": "display_data"
    }
   ],
   "source": [
    "plt.figure(figsize=(12,6))\n",
    "m = df.query(\"is_member == True\" )[\"started_time\"]\n",
    "c = df.query(\"is_member == False\" )[\"started_time\"]\n",
    "plt.hist([m,c],bins=bins,color=colors, weights=[np.ones(len(m)) / len(m),np.ones(len(c)) / len(c)],label=['Members','Casuals'])\n",
    "plt.legend(loc='upper left')\n",
    "plt.xticks(range(0,25))\n",
    "plt.show()"
   ]
  },
  {
   "attachments": {},
   "cell_type": "markdown",
   "metadata": {},
   "source": [
    "Analysis of what day of the week members and casuals use bikes"
   ]
  },
  {
   "cell_type": "code",
   "execution_count": 120,
   "metadata": {},
   "outputs": [
    {
     "data": {
      "image/png": "[encoded data removed]",
      "text/plain": [
       "<Figure size 1800x500 with 2 Axes>"
      ]
     },
     "metadata": {},
     "output_type": "display_data"
    }
   ],
   "source": [
    "week_df = df.query(\"week_day not in [5,6]\" )\n",
    "weekend_df = df.query(\"week_day in [5,6]\" )\n",
    "fig = plt.figure(figsize=(18,5))\n",
    "axis = fig.subplots(1,2)\n",
    "m = week_df.query(\"is_member == True\" )[\"started_time\"]\n",
    "c = week_df.query(\"is_member == False\" )[\"started_time\"]\n",
    "axis[0].hist([m,c],bins=bins,color=colors, weights=[np.ones(len(m)) / len(m),np.ones(len(c)) / len(c)],label=['Members','Casuals'])\n",
    "axis[0].legend(loc='upper left')\n",
    "axis[0].set_title(\"Bike usage in weekdays\")\n",
    "axis[0].set_yticks(np.arange(0,0.13,0.02))\n",
    "\n",
    "m = weekend_df.query(\"is_member == True\" )[\"started_time\"]\n",
    "c = weekend_df.query(\"is_member == False\" )[\"started_time\"]\n",
    "axis[1].hist([m,c],bins=bins,color=colors, weights=[np.ones(len(m)) / len(m),np.ones(len(c)) / len(c)],label=['Members','Casuals'])\n",
    "axis[1].legend(loc='upper left')\n",
    "axis[1].set_title(\"Bike usage in weekend days\")\n",
    "axis[1].set_yticks(np.arange(0,0.13,0.02))\n",
    "\n",
    "plt.show()"
   ]
  },
  {
   "attachments": {},
   "cell_type": "markdown",
   "metadata": {},
   "source": [
    "Analysis how members and casuals use bikes differently divided into months"
   ]
  },
  {
   "cell_type": "code",
   "execution_count": 121,
   "metadata": {},
   "outputs": [
    {
     "data": {
      "image/png": "[encoded data removed]",
      "text/plain": [
       "<Figure size 1500x500 with 1 Axes>"
      ]
     },
     "metadata": {},
     "output_type": "display_data"
    }
   ],
   "source": [
    "plt.figure(figsize=(15,5))\n",
    "m = df.query(\"is_member == True\" )[\"month\"]\n",
    "c = df.query(\"is_member == False\" )[\"month\"]\n",
    "plt.hist([m,c],bins=12,color=colors, weights=[np.ones(len(m)) / len(m),np.ones(len(c)) / len(c)],label=['Members','Casuals'])\n",
    "plt.legend(loc='upper left')\n",
    "plt.title(\"Bike usage divided into months\")\n",
    "plt.show()"
   ]
  },
  {
   "attachments": {},
   "cell_type": "markdown",
   "metadata": {},
   "source": [
    "Second approach"
   ]
  },
  {
   "cell_type": "code",
   "execution_count": 122,
   "metadata": {},
   "outputs": [
    {
     "data": {
      "image/png": "[encoded data removed]",
      "text/plain": [
       "<Figure size 1500x500 with 1 Axes>"
      ]
     },
     "metadata": {},
     "output_type": "display_data"
    }
   ],
   "source": [
    "grouped = df.groupby(by=[\"is_member\",\"month\"])[\"started_at\"].count()\n",
    "plot_dwo_bars(grouped[True].values,grouped[False].values,[str(i) for i in range(1,13)],colors, \"Bike usage divided into months\", \"members\", \"casuals\")"
   ]
  },
  {
   "attachments": {},
   "cell_type": "markdown",
   "metadata": {},
   "source": [
    "Summary"
   ]
  },
  {
   "attachments": {},
   "cell_type": "markdown",
   "metadata": {},
   "source": [
    "1. Bike type\n",
    "    - members use evenly classic bikes (65%) and electric bikes (35%). They are not using docked bikes.\n",
    "    - casuals use mostly classic bikes (50%) and fewer electric bikes (39%). 10% of their rides were on docked bikes.\n",
    "2. Average duration of the ride\n",
    "    - members' average ride takes 13 minutes\n",
    "    - casuals' average ride takes 24 minutes\n",
    "3. Average distance of ride (distance between the start point and the end point)\n",
    "    - members' average ride distance is 2,09 km\n",
    "    - casuals' average ride distance is 2,18 km\n",
    "4. Stations \n",
    "    - members start mostly at stations: Kingsbury St & Kinzie St; Clark St & Elm St; Wells St & Concord Ln\n",
    "    - casuals start mostly at stations: Streeter Dr & Grand Ave; DuSable Lake Shore Dr & Monroe St; Millennium Park\n",
    "5. Hours of bike use\n",
    "    - members ride more than casuals between 5 am and 10 am, and slightly more between 5 pm and 6 pm\n",
    "    - casuals ride more than casuals between 7 pm and 4 am, and slightly more between 12 am and 3 pm\n",
    "6. Day of the week\n",
    "    - members lead between 5 am and 10 am is more significant on weekdays\n",
    "    - casuals lead between 12 pm and 4 am is more significant on weekend days\n",
    "7. Months\n",
    "    - members use bikes in every season, mostly in summer \n",
    "    - casuals use bikes less often in winter than members, but there are more casual rides in summer than member rides."
   ]
  },
  {
   "cell_type": "markdown",
   "metadata": {},
   "source": []
  }
 ],
 "metadata": {
  "kernelspec": {
   "display_name": "pandas_env",
   "language": "python",
   "name": "python3"
  },
  "language_info": {
   "codemirror_mode": {
    "name": "ipython",
    "version": 3
   },
   "file_extension": ".py",
   "mimetype": "text/x-python",
   "name": "python",
   "nbconvert_exporter": "python",
   "pygments_lexer": "ipython3",
   "version": "3.8.16"
  },
  "orig_nbformat": 4
 },
 "nbformat": 4,
 "nbformat_minor": 2
}
