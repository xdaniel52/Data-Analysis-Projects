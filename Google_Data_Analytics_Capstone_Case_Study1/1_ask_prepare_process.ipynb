{
 "cells": [
  {
   "attachments": {},
   "cell_type": "markdown",
   "metadata": {},
   "source": [
    "Table of Contents\n",
    "- ASK\n",
    "    1. key question\n",
    "    2. Define task\n",
    "\n",
    "- PREPARE\n",
    "    1. ROCCC info about data\n",
    "    2. Few information about dataset\n",
    "\n",
    "- PROCESS\n",
    "    1. Import files\n",
    "    2. Build one df for all year 2022\n",
    "    3. Clean data\n",
    "    4. Change dtypes for more optimal\n",
    "    3. Create new columns\n",
    "    6. Delete redundant columns\n"
   ]
  },
  {
   "attachments": {},
   "cell_type": "markdown",
   "metadata": {},
   "source": [
    "ASK"
   ]
  },
  {
   "attachments": {},
   "cell_type": "markdown",
   "metadata": {},
   "source": [
    "Key question:\n",
    "\n",
    "- \"How do annual members and casual riders use Cyclistic bikes differently?\"\n",
    "\n",
    "Task:\n",
    "\n",
    "- Finding differences between casual riders and annual members as well as how they are using bikes.\n"
   ]
  },
  {
   "attachments": {},
   "cell_type": "markdown",
   "metadata": {},
   "source": [
    "PREPARE"
   ]
  },
  {
   "attachments": {},
   "cell_type": "markdown",
   "metadata": {},
   "source": [
    "This data is: \n",
    "- Reliable - contains informations about all riders \n",
    "- Original - data has been downloaded from original site\n",
    "- Comprehensive - data have enough records and are completed\n",
    "- Current - data contains information from previous year\n",
    "- not Cited - because our data are about fake company, but it is not a problem "
   ]
  },
  {
   "attachments": {},
   "cell_type": "markdown",
   "metadata": {},
   "source": [
    "Few information about dataset:\n",
    "- Data is organized in csv files. One for each month. Therefore we had to downloaded 12 files to colect all data about year 2022.\n",
    "- Data has been downloaded to folder data/raw and there has been extracted. \n",
    "- Each file contains the same columns and has thousands of rows\n",
    "- Each row contains information about single ride\n",
    "- Dataset has 13 columns\n",
    "- Not all rides has start and end station\n",
    "- Data does't contain information like riderID so we can't look for example how casual rider become member."
   ]
  },
  {
   "attachments": {},
   "cell_type": "markdown",
   "metadata": {},
   "source": [
    "PROCESS"
   ]
  },
  {
   "attachments": {},
   "cell_type": "markdown",
   "metadata": {},
   "source": [
    "Imports"
   ]
  },
  {
   "cell_type": "code",
   "execution_count": 1,
   "metadata": {},
   "outputs": [],
   "source": [
    "import os\n",
    "import sys\n",
    "import pandas as pd\n",
    "import numpy as np\n",
    "sys.path.append(\"..\")\n",
    "from Smaller_Projects.Basic_Data_Cleaning_Helper.Basic_Data_Cleaning_Helper import Cleaner\n"
   ]
  },
  {
   "cell_type": "code",
   "execution_count": 2,
   "metadata": {},
   "outputs": [],
   "source": [
    "# rename one file to the same naming style as others\n",
    "if os.path.isfile(\"data/raw/202209-divvy-publictripdata.csv\"):\n",
    "    os.rename(\"data/raw/202209-divvy-publictripdata.csv\", \"data/raw/202209-divvy-tripdata.csv\")"
   ]
  },
  {
   "attachments": {},
   "cell_type": "markdown",
   "metadata": {},
   "source": [
    "Test memory usege for one file"
   ]
  },
  {
   "cell_type": "code",
   "execution_count": 3,
   "metadata": {},
   "outputs": [],
   "source": [
    "df = pd.read_csv(\"data/raw/202209-divvy-tripdata.csv\")"
   ]
  },
  {
   "cell_type": "code",
   "execution_count": 4,
   "metadata": {},
   "outputs": [
    {
     "name": "stdout",
     "output_type": "stream",
     "text": [
      "<class 'pandas.core.frame.DataFrame'>\n",
      "RangeIndex: 701339 entries, 0 to 701338\n",
      "Data columns (total 13 columns):\n",
      " #   Column              Non-Null Count   Dtype  \n",
      "---  ------              --------------   -----  \n",
      " 0   ride_id             701339 non-null  object \n",
      " 1   rideable_type       701339 non-null  object \n",
      " 2   started_at          701339 non-null  object \n",
      " 3   ended_at            701339 non-null  object \n",
      " 4   start_station_name  597559 non-null  object \n",
      " 5   start_station_id    597559 non-null  object \n",
      " 6   end_station_name    590154 non-null  object \n",
      " 7   end_station_id      590154 non-null  object \n",
      " 8   start_lat           701339 non-null  float64\n",
      " 9   start_lng           701339 non-null  float64\n",
      " 10  end_lat             700627 non-null  float64\n",
      " 11  end_lng             700627 non-null  float64\n",
      " 12  member_casual       701339 non-null  object \n",
      "dtypes: float64(4), object(9)\n",
      "memory usage: 439.5 MB\n"
     ]
    }
   ],
   "source": [
    "df.info(memory_usage=\"deep\")"
   ]
  },
  {
   "cell_type": "code",
   "execution_count": 5,
   "metadata": {},
   "outputs": [
    {
     "name": "stdout",
     "output_type": "stream",
     "text": [
      "If category type is good for columns:\n",
      "                Column     Type  Unique_Count  Total_Count  Is_Category_Good\n",
      "0              ride_id   object        701339       701339             False\n",
      "1        rideable_type   object             3       701339              True\n",
      "2           started_at   object        574082       701339             False\n",
      "3             ended_at   object        575107       701339             False\n",
      "4   start_station_name   object          1241       701339              True\n",
      "5     start_station_id   object          1130       701339              True\n",
      "6     end_station_name   object          1248       701339              True\n",
      "7       end_station_id   object          1135       701339              True\n",
      "8            start_lat  float64        194717       701339             False\n",
      "9            start_lng  float64        188473       701339             False\n",
      "10             end_lat  float64          1073       701339             False\n",
      "11             end_lng  float64          1061       701339             False\n",
      "12       member_casual   object             2       701339              True\n"
     ]
    }
   ],
   "source": [
    "Cleaner.check_category_type(df)"
   ]
  },
  {
   "cell_type": "code",
   "execution_count": 6,
   "metadata": {},
   "outputs": [
    {
     "name": "stdout",
     "output_type": "stream",
     "text": [
      "Number of nulls in columns:\n",
      "                   Nulls_Count Nulls_percent\n",
      "ride_id                      0           0.0\n",
      "rideable_type                0           0.0\n",
      "started_at                   0           0.0\n",
      "ended_at                     0           0.0\n",
      "start_station_name      103780          0.17\n",
      "start_station_id        103780          0.17\n",
      "end_station_name        111185          0.19\n",
      "end_station_id          111185          0.19\n",
      "start_lat                    0           0.0\n",
      "start_lng                    0           0.0\n",
      "end_lat                    712           0.0\n",
      "end_lng                    712           0.0\n",
      "member_casual                0           0.0\n"
     ]
    }
   ],
   "source": [
    "Cleaner.null_info(df)"
   ]
  },
  {
   "cell_type": "code",
   "execution_count": 7,
   "metadata": {},
   "outputs": [
    {
     "name": "stdout",
     "output_type": "stream",
     "text": [
      "Numeric columns informations:\n",
      "      Column   mean  median   std    max    min\n",
      "0  start_lat  41.90   41.90  0.05  42.07  41.65\n",
      "1  start_lng -87.65  -87.65  0.03 -87.53 -87.84\n",
      "2    end_lat  41.90   41.90  0.05  42.15  41.55\n",
      "3    end_lng -87.65  -87.65  0.03 -87.30 -87.92\n"
     ]
    }
   ],
   "source": [
    "Cleaner.numeric_info(df)"
   ]
  },
  {
   "cell_type": "code",
   "execution_count": 8,
   "metadata": {},
   "outputs": [],
   "source": [
    "\n",
    "# update columns type for datetimes\n",
    "df[\"started_at\"] = pd.to_datetime(df[\"started_at\"])\n",
    "df[\"ended_at\"] = pd.to_datetime(df[\"ended_at\"])\n",
    "\n",
    "# drop index column because its not usefull and use much space\n",
    "df = df.drop(\"ride_id\",axis=1,errors=\"ignore\")\n",
    "\n",
    "# udpate last column to binary dtype, member = 0, casual = 1\n",
    "df[\"member_casual\"] = df[\"member_casual\"] == \"casual\"\n",
    "\n",
    "# udpate dtype for categorical columns\n",
    "Cleaner.change_types_to_category(df)\n"
   ]
  },
  {
   "cell_type": "code",
   "execution_count": 9,
   "metadata": {},
   "outputs": [
    {
     "name": "stdout",
     "output_type": "stream",
     "text": [
      "<class 'pandas.core.frame.DataFrame'>\n",
      "RangeIndex: 701339 entries, 0 to 701338\n",
      "Data columns (total 12 columns):\n",
      " #   Column              Non-Null Count   Dtype         \n",
      "---  ------              --------------   -----         \n",
      " 0   rideable_type       701339 non-null  category      \n",
      " 1   started_at          701339 non-null  datetime64[ns]\n",
      " 2   ended_at            701339 non-null  datetime64[ns]\n",
      " 3   start_station_name  597559 non-null  category      \n",
      " 4   start_station_id    597559 non-null  category      \n",
      " 5   end_station_name    590154 non-null  category      \n",
      " 6   end_station_id      590154 non-null  category      \n",
      " 7   start_lat           701339 non-null  float64       \n",
      " 8   start_lng           701339 non-null  float64       \n",
      " 9   end_lat             700627 non-null  float64       \n",
      " 10  end_lng             700627 non-null  float64       \n",
      " 11  member_casual       701339 non-null  bool          \n",
      "dtypes: bool(1), category(5), datetime64[ns](2), float64(4)\n",
      "memory usage: 39.3 MB\n"
     ]
    }
   ],
   "source": [
    "df.info(memory_usage=\"deep\")"
   ]
  },
  {
   "attachments": {},
   "cell_type": "markdown",
   "metadata": {},
   "source": [
    "We can save about 90% of memory with some transformation. Probably more if we delete lattitude and longtitude data later."
   ]
  },
  {
   "attachments": {},
   "cell_type": "markdown",
   "metadata": {},
   "source": [
    "Load all data and save info one DataFrame"
   ]
  },
  {
   "cell_type": "code",
   "execution_count": 10,
   "metadata": {},
   "outputs": [
    {
     "name": "stdout",
     "output_type": "stream",
     "text": [
      "<class 'pandas.core.frame.DataFrame'>\n",
      "RangeIndex: 5667717 entries, 0 to 5667716\n",
      "Data columns (total 12 columns):\n",
      " #   Column              Dtype         \n",
      "---  ------              -----         \n",
      " 0   rideable_type       category      \n",
      " 1   started_at          datetime64[ns]\n",
      " 2   ended_at            datetime64[ns]\n",
      " 3   start_station_name  category      \n",
      " 4   start_station_id    category      \n",
      " 5   end_station_name    category      \n",
      " 6   end_station_id      category      \n",
      " 7   start_lat           float64       \n",
      " 8   start_lng           float64       \n",
      " 9   end_lat             float64       \n",
      " 10  end_lng             float64       \n",
      " 11  member_casual       bool          \n",
      "dtypes: bool(1), category(5), datetime64[ns](2), float64(4)\n",
      "memory usage: 314.1 MB\n"
     ]
    }
   ],
   "source": [
    "df = pd.DataFrame()\n",
    "for month in range(1,13):\n",
    "    df_month = pd.read_csv(f\"data/raw/2022{month:02}-divvy-tripdata.csv\")\n",
    "        \n",
    "    # drop index column because its not usefull and use much space\n",
    "    df_month = df_month.drop(\"ride_id\",axis=1,errors=\"ignore\")\n",
    "\n",
    "    # udpate last column to binary dtype, member = 0, casual = 1\n",
    "    df_month[\"member_casual\"] = df_month[\"member_casual\"] == \"casual\"\n",
    "\n",
    "    # udpate dtype for categorical columns\n",
    "    Cleaner.change_types_to_category(df_month)\n",
    "    \n",
    "    df = pd.concat([df,df_month], ignore_index=True)\n",
    "    \n",
    "# update columns type for datetimes   \n",
    "df[\"started_at\"] = pd.to_datetime(df[\"started_at\"])\n",
    "df[\"ended_at\"] = pd.to_datetime(df[\"ended_at\"]) \n",
    "   \n",
    "Cleaner.change_types_to_category(df)   \n",
    "df.reindex()   \n",
    "df.info(memory_usage=\"deep\")    \n",
    "\n"
   ]
  },
  {
   "cell_type": "code",
   "execution_count": 11,
   "metadata": {},
   "outputs": [],
   "source": [
    "df = df.drop_duplicates()"
   ]
  },
  {
   "cell_type": "code",
   "execution_count": 12,
   "metadata": {},
   "outputs": [
    {
     "name": "stdout",
     "output_type": "stream",
     "text": [
      "Number of nulls in columns:\n",
      "                   Nulls_Count Nulls_percent\n",
      "rideable_type                0           0.0\n",
      "started_at                   0           0.0\n",
      "ended_at                     0           0.0\n",
      "start_station_name      833063          0.17\n",
      "start_station_id        833063          0.17\n",
      "end_station_name        892740          0.19\n",
      "end_station_id          892740          0.19\n",
      "start_lat                    0           0.0\n",
      "start_lng                    0           0.0\n",
      "end_lat                   5857           0.0\n",
      "end_lng                   5857           0.0\n",
      "member_casual                0           0.0\n"
     ]
    }
   ],
   "source": [
    "Cleaner.null_info(df)  "
   ]
  },
  {
   "cell_type": "code",
   "execution_count": 13,
   "metadata": {},
   "outputs": [
    {
     "name": "stdout",
     "output_type": "stream",
     "text": [
      "Info about outliers:\n",
      "      Column     Type   Mean   Std  Outliers_upper  Outliers_lower\n",
      "0  start_lat  float64  41.90  0.05          259882          379696\n",
      "1  start_lng  float64 -87.65  0.03          269281          393994\n",
      "2    end_lat  float64  41.90  0.07           86349          300808\n",
      "3    end_lng  float64 -87.65  0.11              12            1596\n"
     ]
    }
   ],
   "source": [
    "Cleaner.outliers_info(df)  "
   ]
  },
  {
   "cell_type": "code",
   "execution_count": 14,
   "metadata": {},
   "outputs": [
    {
     "data": {
      "text/plain": [
       "['electric_bike', 'classic_bike', 'docked_bike']\n",
       "Categories (3, object): ['classic_bike', 'docked_bike', 'electric_bike']"
      ]
     },
     "execution_count": 14,
     "metadata": {},
     "output_type": "execute_result"
    }
   ],
   "source": [
    "df[\"rideable_type\"].unique()"
   ]
  },
  {
   "cell_type": "code",
   "execution_count": 15,
   "metadata": {},
   "outputs": [
    {
     "name": "stdout",
     "output_type": "stream",
     "text": [
      "Numeric columns informations:\n",
      "      Column   mean  median   std    max    min\n",
      "0  start_lat  41.90   41.90  0.05  45.64  41.64\n",
      "1  start_lng -87.65  -87.64  0.03 -73.80 -87.84\n",
      "2    end_lat  41.90   41.90  0.07  42.37   0.00\n",
      "3    end_lng -87.65  -87.64  0.11   0.00 -88.14\n"
     ]
    }
   ],
   "source": [
    "Cleaner.numeric_info(df)"
   ]
  },
  {
   "cell_type": "code",
   "execution_count": 16,
   "metadata": {},
   "outputs": [
    {
     "name": "stdout",
     "output_type": "stream",
     "text": [
      "Member's rides percent: 0.59\n",
      "Casual's rides percent: 0.41\n"
     ]
    }
   ],
   "source": [
    "percent_of_members = round(sum(df[\"member_casual\"]==0) / len(df),2)\n",
    "print(f\"Member's rides percent: {percent_of_members}\\nCasual's rides percent: {round(1-percent_of_members,2)}\")"
   ]
  },
  {
   "attachments": {},
   "cell_type": "markdown",
   "metadata": {},
   "source": [
    "New columns"
   ]
  },
  {
   "attachments": {},
   "cell_type": "markdown",
   "metadata": {},
   "source": [
    "Add duration column for duration of ride (in minutes)"
   ]
  },
  {
   "cell_type": "code",
   "execution_count": 17,
   "metadata": {},
   "outputs": [],
   "source": [
    "df[\"duration\"] = ((df[\"ended_at\"] - df[\"started_at\"]).dt.total_seconds()/60).astype(np.float32)"
   ]
  },
  {
   "attachments": {},
   "cell_type": "markdown",
   "metadata": {},
   "source": [
    "Add distance column for distance of ride (in meters)"
   ]
  },
  {
   "cell_type": "code",
   "execution_count": 18,
   "metadata": {},
   "outputs": [],
   "source": [
    "def calculate_distance(lon1, lat1, lon2, lat2):\n",
    "\n",
    "    lon1, lat1, lon2, lat2 = map(np.radians, [lon1, lat1, lon2, lat2])\n",
    "    dlon = lon2 - lon1\n",
    "    dlat = lat2 - lat1\n",
    "    a = np.sin(dlat/2.0)**2 + np.cos(lat1) * np.cos(lat2) * np.sin(dlon/2.0)**2\n",
    "    c = 2 * np.arcsin(np.sqrt(a))\n",
    "    m = 6371000 * c\n",
    "    return m"
   ]
  },
  {
   "cell_type": "code",
   "execution_count": 19,
   "metadata": {},
   "outputs": [],
   "source": [
    "df[\"distance\"] = calculate_distance(df['start_lng'],df['start_lat'],df['end_lng'],df['end_lat']).astype(np.float32)"
   ]
  },
  {
   "cell_type": "code",
   "execution_count": 20,
   "metadata": {},
   "outputs": [],
   "source": [
    "#now we dont need gps columns se we can drop them\n",
    "df = df.drop([\"start_lng\",\"start_lat\",\"end_lng\",\"end_lat\"],axis=1)"
   ]
  },
  {
   "attachments": {},
   "cell_type": "markdown",
   "metadata": {},
   "source": [
    "Add time column for exact time of stated ride (in float hours)"
   ]
  },
  {
   "cell_type": "code",
   "execution_count": 21,
   "metadata": {},
   "outputs": [],
   "source": [
    "df[\"started_time\"] = (df[\"started_at\"].dt.hour +df[\"started_at\"].dt.minute/60 +df[\"started_at\"].dt.second/3600).astype(np.float16)"
   ]
  },
  {
   "attachments": {},
   "cell_type": "markdown",
   "metadata": {},
   "source": [
    "Add week_day column for day of the week "
   ]
  },
  {
   "cell_type": "code",
   "execution_count": 22,
   "metadata": {},
   "outputs": [],
   "source": [
    "df[\"week_day\"] = df[\"started_at\"].dt.dayofweek.astype(np.int8)"
   ]
  },
  {
   "attachments": {},
   "cell_type": "markdown",
   "metadata": {},
   "source": [
    "Add month column "
   ]
  },
  {
   "cell_type": "code",
   "execution_count": 23,
   "metadata": {},
   "outputs": [],
   "source": [
    "df[\"month\"] = df[\"started_at\"].dt.month.astype(np.int8)"
   ]
  },
  {
   "attachments": {},
   "cell_type": "markdown",
   "metadata": {},
   "source": [
    "Add day_of_year column "
   ]
  },
  {
   "cell_type": "code",
   "execution_count": 24,
   "metadata": {},
   "outputs": [],
   "source": [
    "df[\"day_of_year\"] = df[\"started_at\"].dt.day_of_year.astype(np.int8)"
   ]
  },
  {
   "attachments": {},
   "cell_type": "markdown",
   "metadata": {},
   "source": [
    "Add day column "
   ]
  },
  {
   "cell_type": "code",
   "execution_count": 25,
   "metadata": {},
   "outputs": [],
   "source": [
    "df[\"day\"] = df[\"started_at\"].dt.day.astype(np.int8)"
   ]
  },
  {
   "cell_type": "code",
   "execution_count": 26,
   "metadata": {},
   "outputs": [
    {
     "name": "stdout",
     "output_type": "stream",
     "text": [
      "<class 'pandas.core.frame.DataFrame'>\n",
      "Int64Index: 5667693 entries, 0 to 5667716\n",
      "Data columns (total 15 columns):\n",
      " #   Column              Dtype         \n",
      "---  ------              -----         \n",
      " 0   rideable_type       category      \n",
      " 1   started_at          datetime64[ns]\n",
      " 2   ended_at            datetime64[ns]\n",
      " 3   start_station_name  category      \n",
      " 4   start_station_id    category      \n",
      " 5   end_station_name    category      \n",
      " 6   end_station_id      category      \n",
      " 7   member_casual       bool          \n",
      " 8   duration            float32       \n",
      " 9   distance            float32       \n",
      " 10  started_time        float16       \n",
      " 11  week_day            int8          \n",
      " 12  month               int8          \n",
      " 13  day_of_year         int8          \n",
      " 14  day                 int8          \n",
      "dtypes: bool(1), category(5), datetime64[ns](2), float16(1), float32(2), int8(4)\n",
      "memory usage: 260.1 MB\n"
     ]
    }
   ],
   "source": [
    "df.info(memory_usage=\"deep\")"
   ]
  },
  {
   "attachments": {},
   "cell_type": "markdown",
   "metadata": {},
   "source": [
    "Export prepered data"
   ]
  },
  {
   "cell_type": "code",
   "execution_count": 27,
   "metadata": {},
   "outputs": [],
   "source": [
    "df.to_parquet(\"data/preprocessed/dataset.parquet\")"
   ]
  },
  {
   "attachments": {},
   "cell_type": "markdown",
   "metadata": {},
   "source": [
    "Export to csv if needed, but take long time and 4 times more space"
   ]
  },
  {
   "cell_type": "code",
   "execution_count": 28,
   "metadata": {},
   "outputs": [],
   "source": [
    "#df.to_csv(\"data/preprocessed/dataset.csv\")"
   ]
  }
 ],
 "metadata": {
  "kernelspec": {
   "display_name": "pandas_env",
   "language": "python",
   "name": "python3"
  },
  "language_info": {
   "codemirror_mode": {
    "name": "ipython",
    "version": 3
   },
   "file_extension": ".py",
   "mimetype": "text/x-python",
   "name": "python",
   "nbconvert_exporter": "python",
   "pygments_lexer": "ipython3",
   "version": "3.8.16"
  },
  "orig_nbformat": 4
 },
 "nbformat": 4,
 "nbformat_minor": 2
}
