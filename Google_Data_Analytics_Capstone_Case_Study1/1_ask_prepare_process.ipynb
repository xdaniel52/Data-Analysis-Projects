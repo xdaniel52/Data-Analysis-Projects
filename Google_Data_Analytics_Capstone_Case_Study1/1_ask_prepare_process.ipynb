{
 "cells": [
  {
   "attachments": {},
   "cell_type": "markdown",
   "metadata": {},
   "source": [
    "Table of Contents\n",
    "- ASK\n",
    "    1. key question\n",
    "    2. Define task\n",
    "\n",
    "- PREPARE\n",
    "    1. ROCCC info about data\n",
    "    2. Few information about dataset\n",
    "\n",
    "- PROCESS\n",
    "    1. Import files\n",
    "    2. Build one df for all year 2022\n",
    "    3. Clean data\n",
    "    4. Change dtypes for more optimal\n",
    "    3. Create new columns\n",
    "    6. Delete redundant columns\n"
   ]
  },
  {
   "attachments": {},
   "cell_type": "markdown",
   "metadata": {},
   "source": [
    "ASK"
   ]
  },
  {
   "attachments": {},
   "cell_type": "markdown",
   "metadata": {},
   "source": [
    "Key question:\n",
    "\n",
    "- \"How do annual members and casual riders use Cyclistic bikes differently?\"\n",
    "\n",
    "Task:\n",
    "\n",
    "- Finding differences between casual riders and annual members as well as how they are using bikes.\n"
   ]
  },
  {
   "attachments": {},
   "cell_type": "markdown",
   "metadata": {},
   "source": [
    "PREPARE"
   ]
  },
  {
   "attachments": {},
   "cell_type": "markdown",
   "metadata": {},
   "source": [
    "This data is: \n",
    "- Reliable - contains informations about all riders \n",
    "- Original - data has been downloaded from original site\n",
    "- Comprehensive - data have enough records and are completed\n",
    "- Current - data contains information from previous year\n",
    "- not Cited - because our data are about fake company, but it is not a problem "
   ]
  },
  {
   "attachments": {},
   "cell_type": "markdown",
   "metadata": {},
   "source": [
    "Few information about dataset:\n",
    "- Data is organized in csv files. One for each month. Therefore we had to downloaded 12 files to colect all data about year 2022.\n",
    "- Data has been downloaded to folder data/raw and there has been extracted. \n",
    "- Each file contains the same columns and has thousands of rows\n",
    "- Each row contains information about single ride\n",
    "- Dataset has 13 columns\n",
    "- Not all rides has start and end station\n",
    "- Data does't contain information like riderID so we can't look for example how casual rider become member."
   ]
  },
  {
   "attachments": {},
   "cell_type": "markdown",
   "metadata": {},
   "source": [
    "PROCESS"
   ]
  },
  {
   "attachments": {},
   "cell_type": "markdown",
   "metadata": {},
   "source": [
    "Imports"
   ]
  },
  {
   "cell_type": "code",
   "execution_count": 1,
   "metadata": {},
   "outputs": [],
   "source": [
    "import os\n",
    "import sys\n",
    "import pandas as pd\n",
    "import numpy as np\n",
    "sys.path.append(\"..\")\n",
    "from Smaller_Projects.Basic_Data_Cleaning_Helper.Basic_Data_Cleaning_Helper import DataCleaner\n"
   ]
  },
  {
   "cell_type": "code",
   "execution_count": 2,
   "metadata": {},
   "outputs": [],
   "source": [
    "# rename one file to the same naming style as others\n",
    "if os.path.isfile(\"data/raw/202209-divvy-publictripdata.csv\"):\n",
    "    os.rename(\"data/raw/202209-divvy-publictripdata.csv\", \"data/raw/202209-divvy-tripdata.csv\")"
   ]
  },
  {
   "attachments": {},
   "cell_type": "markdown",
   "metadata": {},
   "source": [
    "Test memory usege for one file and explore data"
   ]
  },
  {
   "cell_type": "code",
   "execution_count": 3,
   "metadata": {},
   "outputs": [],
   "source": [
    "df = pd.read_csv(\"data/raw/202209-divvy-tripdata.csv\")"
   ]
  },
  {
   "cell_type": "code",
   "execution_count": 4,
   "metadata": {},
   "outputs": [
    {
     "data": {
      "text/html": [
       "<div>\n",
       "<style scoped>\n",
       "    .dataframe tbody tr th:only-of-type {\n",
       "        vertical-align: middle;\n",
       "    }\n",
       "\n",
       "    .dataframe tbody tr th {\n",
       "        vertical-align: top;\n",
       "    }\n",
       "\n",
       "    .dataframe thead th {\n",
       "        text-align: right;\n",
       "    }\n",
       "</style>\n",
       "<table border=\"1\" class=\"dataframe\">\n",
       "  <thead>\n",
       "    <tr style=\"text-align: right;\">\n",
       "      <th></th>\n",
       "      <th>ride_id</th>\n",
       "      <th>rideable_type</th>\n",
       "      <th>started_at</th>\n",
       "      <th>ended_at</th>\n",
       "      <th>start_station_name</th>\n",
       "      <th>start_station_id</th>\n",
       "      <th>end_station_name</th>\n",
       "      <th>end_station_id</th>\n",
       "      <th>start_lat</th>\n",
       "      <th>start_lng</th>\n",
       "      <th>end_lat</th>\n",
       "      <th>end_lng</th>\n",
       "      <th>member_casual</th>\n",
       "    </tr>\n",
       "  </thead>\n",
       "  <tbody>\n",
       "    <tr>\n",
       "      <th>0</th>\n",
       "      <td>5156990AC19CA285</td>\n",
       "      <td>electric_bike</td>\n",
       "      <td>2022-09-01 08:36:22</td>\n",
       "      <td>2022-09-01 08:39:05</td>\n",
       "      <td>NaN</td>\n",
       "      <td>NaN</td>\n",
       "      <td>California Ave &amp; Milwaukee Ave</td>\n",
       "      <td>13084</td>\n",
       "      <td>41.93</td>\n",
       "      <td>-87.69</td>\n",
       "      <td>41.922695</td>\n",
       "      <td>-87.697153</td>\n",
       "      <td>casual</td>\n",
       "    </tr>\n",
       "    <tr>\n",
       "      <th>1</th>\n",
       "      <td>E12D4A16BF51C274</td>\n",
       "      <td>electric_bike</td>\n",
       "      <td>2022-09-01 17:11:29</td>\n",
       "      <td>2022-09-01 17:14:45</td>\n",
       "      <td>NaN</td>\n",
       "      <td>NaN</td>\n",
       "      <td>NaN</td>\n",
       "      <td>NaN</td>\n",
       "      <td>41.87</td>\n",
       "      <td>-87.62</td>\n",
       "      <td>41.870000</td>\n",
       "      <td>-87.620000</td>\n",
       "      <td>casual</td>\n",
       "    </tr>\n",
       "    <tr>\n",
       "      <th>2</th>\n",
       "      <td>A02B53CD7DB72DD7</td>\n",
       "      <td>electric_bike</td>\n",
       "      <td>2022-09-01 17:15:50</td>\n",
       "      <td>2022-09-01 17:16:12</td>\n",
       "      <td>NaN</td>\n",
       "      <td>NaN</td>\n",
       "      <td>NaN</td>\n",
       "      <td>NaN</td>\n",
       "      <td>41.87</td>\n",
       "      <td>-87.62</td>\n",
       "      <td>41.870000</td>\n",
       "      <td>-87.620000</td>\n",
       "      <td>casual</td>\n",
       "    </tr>\n",
       "    <tr>\n",
       "      <th>3</th>\n",
       "      <td>C82E05FEE872DF11</td>\n",
       "      <td>electric_bike</td>\n",
       "      <td>2022-09-01 09:00:28</td>\n",
       "      <td>2022-09-01 09:10:32</td>\n",
       "      <td>NaN</td>\n",
       "      <td>NaN</td>\n",
       "      <td>NaN</td>\n",
       "      <td>NaN</td>\n",
       "      <td>41.93</td>\n",
       "      <td>-87.69</td>\n",
       "      <td>41.940000</td>\n",
       "      <td>-87.670000</td>\n",
       "      <td>casual</td>\n",
       "    </tr>\n",
       "    <tr>\n",
       "      <th>4</th>\n",
       "      <td>4DEEB4550A266AE1</td>\n",
       "      <td>electric_bike</td>\n",
       "      <td>2022-09-01 07:30:11</td>\n",
       "      <td>2022-09-01 07:32:36</td>\n",
       "      <td>NaN</td>\n",
       "      <td>NaN</td>\n",
       "      <td>NaN</td>\n",
       "      <td>NaN</td>\n",
       "      <td>41.92</td>\n",
       "      <td>-87.73</td>\n",
       "      <td>41.920000</td>\n",
       "      <td>-87.730000</td>\n",
       "      <td>casual</td>\n",
       "    </tr>\n",
       "  </tbody>\n",
       "</table>\n",
       "</div>"
      ],
      "text/plain": [
       "            ride_id  rideable_type           started_at             ended_at  \\\n",
       "0  5156990AC19CA285  electric_bike  2022-09-01 08:36:22  2022-09-01 08:39:05   \n",
       "1  E12D4A16BF51C274  electric_bike  2022-09-01 17:11:29  2022-09-01 17:14:45   \n",
       "2  A02B53CD7DB72DD7  electric_bike  2022-09-01 17:15:50  2022-09-01 17:16:12   \n",
       "3  C82E05FEE872DF11  electric_bike  2022-09-01 09:00:28  2022-09-01 09:10:32   \n",
       "4  4DEEB4550A266AE1  electric_bike  2022-09-01 07:30:11  2022-09-01 07:32:36   \n",
       "\n",
       "  start_station_name start_station_id                end_station_name  \\\n",
       "0                NaN              NaN  California Ave & Milwaukee Ave   \n",
       "1                NaN              NaN                             NaN   \n",
       "2                NaN              NaN                             NaN   \n",
       "3                NaN              NaN                             NaN   \n",
       "4                NaN              NaN                             NaN   \n",
       "\n",
       "  end_station_id  start_lat  start_lng    end_lat    end_lng member_casual  \n",
       "0          13084      41.93     -87.69  41.922695 -87.697153        casual  \n",
       "1            NaN      41.87     -87.62  41.870000 -87.620000        casual  \n",
       "2            NaN      41.87     -87.62  41.870000 -87.620000        casual  \n",
       "3            NaN      41.93     -87.69  41.940000 -87.670000        casual  \n",
       "4            NaN      41.92     -87.73  41.920000 -87.730000        casual  "
      ]
     },
     "execution_count": 4,
     "metadata": {},
     "output_type": "execute_result"
    }
   ],
   "source": [
    "df.head()"
   ]
  },
  {
   "cell_type": "code",
   "execution_count": 5,
   "metadata": {},
   "outputs": [
    {
     "name": "stdout",
     "output_type": "stream",
     "text": [
      "<class 'pandas.core.frame.DataFrame'>\n",
      "RangeIndex: 701339 entries, 0 to 701338\n",
      "Data columns (total 13 columns):\n",
      " #   Column              Non-Null Count   Dtype  \n",
      "---  ------              --------------   -----  \n",
      " 0   ride_id             701339 non-null  object \n",
      " 1   rideable_type       701339 non-null  object \n",
      " 2   started_at          701339 non-null  object \n",
      " 3   ended_at            701339 non-null  object \n",
      " 4   start_station_name  597559 non-null  object \n",
      " 5   start_station_id    597559 non-null  object \n",
      " 6   end_station_name    590154 non-null  object \n",
      " 7   end_station_id      590154 non-null  object \n",
      " 8   start_lat           701339 non-null  float64\n",
      " 9   start_lng           701339 non-null  float64\n",
      " 10  end_lat             700627 non-null  float64\n",
      " 11  end_lng             700627 non-null  float64\n",
      " 12  member_casual       701339 non-null  object \n",
      "dtypes: float64(4), object(9)\n",
      "memory usage: 439.5 MB\n"
     ]
    }
   ],
   "source": [
    "df.info(memory_usage=\"deep\")"
   ]
  },
  {
   "cell_type": "code",
   "execution_count": 6,
   "metadata": {},
   "outputs": [
    {
     "name": "stdout",
     "output_type": "stream",
     "text": [
      "If category type is good for columns:\n",
      "                Column     Type  Unique_Count  Total_Count  Is_Category_Good\n",
      "0              ride_id   object        701339       701339             False\n",
      "1        rideable_type   object             3       701339              True\n",
      "2           started_at   object        574082       701339             False\n",
      "3             ended_at   object        575107       701339             False\n",
      "4   start_station_name   object          1241       701339              True\n",
      "5     start_station_id   object          1130       701339              True\n",
      "6     end_station_name   object          1248       701339              True\n",
      "7       end_station_id   object          1135       701339              True\n",
      "8            start_lat  float64        194717       701339             False\n",
      "9            start_lng  float64        188473       701339             False\n",
      "10             end_lat  float64          1073       701339             False\n",
      "11             end_lng  float64          1061       701339             False\n",
      "12       member_casual   object             2       701339              True\n"
     ]
    }
   ],
   "source": [
    "DataCleaner.check_category_type(df)"
   ]
  },
  {
   "cell_type": "code",
   "execution_count": 7,
   "metadata": {},
   "outputs": [
    {
     "name": "stdout",
     "output_type": "stream",
     "text": [
      "Number of nulls in columns:\n",
      "                   Nulls_Count Nulls_percent\n",
      "ride_id                      0           0.0\n",
      "rideable_type                0           0.0\n",
      "started_at                   0           0.0\n",
      "ended_at                     0           0.0\n",
      "start_station_name      103780          0.17\n",
      "start_station_id        103780          0.17\n",
      "end_station_name        111185          0.19\n",
      "end_station_id          111185          0.19\n",
      "start_lat                    0           0.0\n",
      "start_lng                    0           0.0\n",
      "end_lat                    712           0.0\n",
      "end_lng                    712           0.0\n",
      "member_casual                0           0.0\n"
     ]
    }
   ],
   "source": [
    "DataCleaner.null_info(df)"
   ]
  },
  {
   "cell_type": "code",
   "execution_count": 8,
   "metadata": {},
   "outputs": [
    {
     "name": "stdout",
     "output_type": "stream",
     "text": [
      "Numeric columns informations:\n",
      "      Column   mean  median   std    max    min\n",
      "0  start_lat  41.90   41.90  0.05  42.07  41.65\n",
      "1  start_lng -87.65  -87.65  0.03 -87.53 -87.84\n",
      "2    end_lat  41.90   41.90  0.05  42.15  41.55\n",
      "3    end_lng -87.65  -87.65  0.03 -87.30 -87.92\n"
     ]
    }
   ],
   "source": [
    "DataCleaner.numeric_info(df)"
   ]
  },
  {
   "cell_type": "code",
   "execution_count": 9,
   "metadata": {},
   "outputs": [],
   "source": [
    "\n",
    "# update columns type for datetimes\n",
    "df[\"started_at\"] = pd.to_datetime(df[\"started_at\"])\n",
    "df[\"ended_at\"] = pd.to_datetime(df[\"ended_at\"])\n",
    "\n",
    "# drop index column because its not usefull and use much space\n",
    "df = df.drop(\"ride_id\",axis=1,errors=\"ignore\")\n",
    "\n",
    "# udpate last column to binary dtype, member = 0, casual = 1\n",
    "# udpate last column to binary dtype, member = 1, casual = 0\n",
    "df[\"member_casual\"] = df[\"member_casual\"] == \"member\"\n",
    "\n",
    "# udpate dtype for categorical columns\n",
    "DataCleaner.change_types_to_category(df)\n"
   ]
  },
  {
   "cell_type": "code",
   "execution_count": 10,
   "metadata": {},
   "outputs": [
    {
     "name": "stdout",
     "output_type": "stream",
     "text": [
      "<class 'pandas.core.frame.DataFrame'>\n",
      "RangeIndex: 701339 entries, 0 to 701338\n",
      "Data columns (total 12 columns):\n",
      " #   Column              Non-Null Count   Dtype         \n",
      "---  ------              --------------   -----         \n",
      " 0   rideable_type       701339 non-null  category      \n",
      " 1   started_at          701339 non-null  datetime64[ns]\n",
      " 2   ended_at            701339 non-null  datetime64[ns]\n",
      " 3   start_station_name  597559 non-null  category      \n",
      " 4   start_station_id    597559 non-null  category      \n",
      " 5   end_station_name    590154 non-null  category      \n",
      " 6   end_station_id      590154 non-null  category      \n",
      " 7   start_lat           701339 non-null  float64       \n",
      " 8   start_lng           701339 non-null  float64       \n",
      " 9   end_lat             700627 non-null  float64       \n",
      " 10  end_lng             700627 non-null  float64       \n",
      " 11  member_casual       701339 non-null  bool          \n",
      "dtypes: bool(1), category(5), datetime64[ns](2), float64(4)\n",
      "memory usage: 39.3 MB\n"
     ]
    }
   ],
   "source": [
    "df.info(memory_usage=\"deep\")"
   ]
  },
  {
   "attachments": {},
   "cell_type": "markdown",
   "metadata": {},
   "source": [
    "We can save about 90% of memory with some transformation. Probably more if we delete lattitude and longtitude data later."
   ]
  },
  {
   "attachments": {},
   "cell_type": "markdown",
   "metadata": {},
   "source": [
    "Load all data and save info one DataFrame"
   ]
  },
  {
   "cell_type": "code",
   "execution_count": 11,
   "metadata": {},
   "outputs": [
    {
     "name": "stdout",
     "output_type": "stream",
     "text": [
      "<class 'pandas.core.frame.DataFrame'>\n",
      "RangeIndex: 5667717 entries, 0 to 5667716\n",
      "Data columns (total 12 columns):\n",
      " #   Column              Dtype         \n",
      "---  ------              -----         \n",
      " 0   rideable_type       category      \n",
      " 1   started_at          datetime64[ns]\n",
      " 2   ended_at            datetime64[ns]\n",
      " 3   start_station_name  category      \n",
      " 4   start_station_id    category      \n",
      " 5   end_station_name    category      \n",
      " 6   end_station_id      category      \n",
      " 7   start_lat           float64       \n",
      " 8   start_lng           float64       \n",
      " 9   end_lat             float64       \n",
      " 10  end_lng             float64       \n",
      " 11  is_member           bool          \n",
      "dtypes: bool(1), category(5), datetime64[ns](2), float64(4)\n",
      "memory usage: 314.1 MB\n"
     ]
    }
   ],
   "source": [
    "df = pd.DataFrame()\n",
    "col_names = list(pd.read_csv(\"data/raw/202201-divvy-tripdata.csv\", nrows =1))\n",
    "\n",
    "for month in range(1,13):\n",
    "    df_month = pd.read_csv(f\"data/raw/2022{month:02}-divvy-tripdata.csv\", \n",
    "            usecols=[i for i in col_names if i != 'ride_id'])\n",
    "\n",
    "    # udpate last column to binary dtype, member = True, casual = False\n",
    "    df_month[\"member_casual\"] = df_month[\"member_casual\"] == \"member\"\n",
    "\n",
    "    # udpate dtype for categorical columns\n",
    "    DataCleaner.change_types_to_category(df_month)\n",
    "    \n",
    "    df = pd.concat([df,df_month], ignore_index=True)\n",
    "    \n",
    "# update columns type for datetimes   \n",
    "df[\"started_at\"] = pd.to_datetime(df[\"started_at\"])\n",
    "df[\"ended_at\"] = pd.to_datetime(df[\"ended_at\"]) \n",
    "df = df.rename(columns={\"member_casual\": \"is_member\"}) \n",
    "DataCleaner.change_types_to_category(df)   \n",
    "df.reindex()   \n",
    "df.info(memory_usage=\"deep\")    \n",
    "\n"
   ]
  },
  {
   "attachments": {},
   "cell_type": "markdown",
   "metadata": {},
   "source": [
    "Dropping  duplicated rows"
   ]
  },
  {
   "cell_type": "code",
   "execution_count": 12,
   "metadata": {},
   "outputs": [],
   "source": [
    "df = df.drop_duplicates()"
   ]
  },
  {
   "cell_type": "code",
   "execution_count": 13,
   "metadata": {},
   "outputs": [
    {
     "name": "stdout",
     "output_type": "stream",
     "text": [
      "Number of nulls in columns:\n",
      "                   Nulls_Count Nulls_percent\n",
      "rideable_type                0           0.0\n",
      "started_at                   0           0.0\n",
      "ended_at                     0           0.0\n",
      "start_station_name      833063          0.17\n",
      "start_station_id        833063          0.17\n",
      "end_station_name        892740          0.19\n",
      "end_station_id          892740          0.19\n",
      "start_lat                    0           0.0\n",
      "start_lng                    0           0.0\n",
      "end_lat                   5857           0.0\n",
      "end_lng                   5857           0.0\n",
      "is_member                    0           0.0\n"
     ]
    }
   ],
   "source": [
    "DataCleaner.null_info(df)  "
   ]
  },
  {
   "attachments": {},
   "cell_type": "markdown",
   "metadata": {},
   "source": [
    "Dropping  rows containing empty end_lng and end_lat"
   ]
  },
  {
   "cell_type": "code",
   "execution_count": 14,
   "metadata": {},
   "outputs": [],
   "source": [
    "df = df.dropna(subset=['end_lat'])"
   ]
  },
  {
   "cell_type": "code",
   "execution_count": 15,
   "metadata": {},
   "outputs": [
    {
     "name": "stdout",
     "output_type": "stream",
     "text": [
      "Info about outliers:\n",
      "      Column     Type   Mean   Std  Outliers_upper  Outliers_lower\n",
      "0  start_lat  float64  41.90  0.05          264368          378586\n",
      "1  start_lng  float64 -87.65  0.03          268825          393395\n",
      "2    end_lat  float64  41.90  0.07           86349          300808\n",
      "3    end_lng  float64 -87.65  0.11              12            1596\n"
     ]
    }
   ],
   "source": [
    "DataCleaner.outliers_info(df)  "
   ]
  },
  {
   "cell_type": "code",
   "execution_count": 16,
   "metadata": {},
   "outputs": [
    {
     "data": {
      "text/plain": [
       "['electric_bike', 'classic_bike', 'docked_bike']\n",
       "Categories (3, object): ['classic_bike', 'docked_bike', 'electric_bike']"
      ]
     },
     "execution_count": 16,
     "metadata": {},
     "output_type": "execute_result"
    }
   ],
   "source": [
    "df[\"rideable_type\"].unique()"
   ]
  },
  {
   "cell_type": "code",
   "execution_count": 17,
   "metadata": {},
   "outputs": [
    {
     "name": "stdout",
     "output_type": "stream",
     "text": [
      "Numeric columns informations:\n",
      "      Column   mean  median   std    max    min\n",
      "0  start_lat  41.90   41.90  0.05  45.64  41.64\n",
      "1  start_lng -87.65  -87.64  0.03 -73.80 -87.84\n",
      "2    end_lat  41.90   41.90  0.07  42.37   0.00\n",
      "3    end_lng -87.65  -87.64  0.11   0.00 -88.14\n"
     ]
    }
   ],
   "source": [
    "DataCleaner.numeric_info(df)"
   ]
  },
  {
   "cell_type": "code",
   "execution_count": 18,
   "metadata": {},
   "outputs": [
    {
     "name": "stdout",
     "output_type": "stream",
     "text": [
      "Members rides percent: 0.59\n",
      "Casuals rides percent: 0.41\n"
     ]
    }
   ],
   "source": [
    "percent_of_members = round(sum(df[\"is_member\"]==True) / len(df),2)\n",
    "print(f\"Members rides percent: {percent_of_members}\\nCasuals rides percent: {round(1-percent_of_members,2)}\")"
   ]
  },
  {
   "attachments": {},
   "cell_type": "markdown",
   "metadata": {},
   "source": [
    "New columns"
   ]
  },
  {
   "attachments": {},
   "cell_type": "markdown",
   "metadata": {},
   "source": [
    "Add duration column for duration of ride (in minutes)"
   ]
  },
  {
   "cell_type": "code",
   "execution_count": 19,
   "metadata": {},
   "outputs": [],
   "source": [
    "df[\"duration\"] = ((df[\"ended_at\"] - df[\"started_at\"]).dt.total_seconds()/60).astype(np.float32)"
   ]
  },
  {
   "attachments": {},
   "cell_type": "markdown",
   "metadata": {},
   "source": [
    "Drop rides that takes less then 30s"
   ]
  },
  {
   "cell_type": "code",
   "execution_count": 20,
   "metadata": {},
   "outputs": [],
   "source": [
    "df = df[df[\"duration\"] > 0.5].dropna()"
   ]
  },
  {
   "attachments": {},
   "cell_type": "markdown",
   "metadata": {},
   "source": [
    "Add distance column for distance of ride (in meters)"
   ]
  },
  {
   "cell_type": "code",
   "execution_count": 21,
   "metadata": {},
   "outputs": [],
   "source": [
    "def calculate_distance(lon1, lat1, lon2, lat2):\n",
    "\n",
    "    lon1, lat1, lon2, lat2 = map(np.radians, [lon1, lat1, lon2, lat2])\n",
    "    dlon = lon2 - lon1\n",
    "    dlat = lat2 - lat1\n",
    "    a = np.sin(dlat/2.0)**2 + np.cos(lat1) * np.cos(lat2) * np.sin(dlon/2.0)**2\n",
    "    c = 2 * np.arcsin(np.sqrt(a))\n",
    "    m = 6371000 * c\n",
    "    return m"
   ]
  },
  {
   "cell_type": "code",
   "execution_count": 22,
   "metadata": {},
   "outputs": [],
   "source": [
    "df[\"distance\"] = calculate_distance(df['start_lng'],df['start_lat'],df['end_lng'],df['end_lat']).astype(np.float32)"
   ]
  },
  {
   "cell_type": "code",
   "execution_count": 23,
   "metadata": {},
   "outputs": [],
   "source": [
    "#now we dont need gps columns se we can drop them\n",
    "df = df.drop([\"start_lng\",\"start_lat\",\"end_lng\",\"end_lat\"],axis=1)"
   ]
  },
  {
   "attachments": {},
   "cell_type": "markdown",
   "metadata": {},
   "source": [
    "Add time column for exact time of stated ride (in float hours)"
   ]
  },
  {
   "cell_type": "code",
   "execution_count": 24,
   "metadata": {},
   "outputs": [],
   "source": [
    "df[\"started_time\"] = (df[\"started_at\"].dt.hour +df[\"started_at\"].dt.minute/60 +df[\"started_at\"].dt.second/3600).astype(np.float16)"
   ]
  },
  {
   "attachments": {},
   "cell_type": "markdown",
   "metadata": {},
   "source": [
    "Add week_day column for day of the week "
   ]
  },
  {
   "cell_type": "code",
   "execution_count": 25,
   "metadata": {},
   "outputs": [],
   "source": [
    "df[\"week_day\"] = df[\"started_at\"].dt.dayofweek.astype(np.int8)"
   ]
  },
  {
   "attachments": {},
   "cell_type": "markdown",
   "metadata": {},
   "source": [
    "Add month column "
   ]
  },
  {
   "cell_type": "code",
   "execution_count": 26,
   "metadata": {},
   "outputs": [],
   "source": [
    "df[\"month\"] = df[\"started_at\"].dt.month.astype(np.int8)"
   ]
  },
  {
   "attachments": {},
   "cell_type": "markdown",
   "metadata": {},
   "source": [
    "Add day_of_year column "
   ]
  },
  {
   "cell_type": "code",
   "execution_count": 27,
   "metadata": {},
   "outputs": [],
   "source": [
    "df[\"day_of_year\"] = df[\"started_at\"].dt.day_of_year.astype(np.uint16)"
   ]
  },
  {
   "attachments": {},
   "cell_type": "markdown",
   "metadata": {},
   "source": [
    "Add day column "
   ]
  },
  {
   "cell_type": "code",
   "execution_count": 28,
   "metadata": {},
   "outputs": [],
   "source": [
    "df[\"day\"] = df[\"started_at\"].dt.day.astype(np.int8)"
   ]
  },
  {
   "cell_type": "code",
   "execution_count": 29,
   "metadata": {},
   "outputs": [
    {
     "name": "stdout",
     "output_type": "stream",
     "text": [
      "<class 'pandas.core.frame.DataFrame'>\n",
      "Int64Index: 4320790 entries, 0 to 5667716\n",
      "Data columns (total 15 columns):\n",
      " #   Column              Dtype         \n",
      "---  ------              -----         \n",
      " 0   rideable_type       category      \n",
      " 1   started_at          datetime64[ns]\n",
      " 2   ended_at            datetime64[ns]\n",
      " 3   start_station_name  category      \n",
      " 4   start_station_id    category      \n",
      " 5   end_station_name    category      \n",
      " 6   end_station_id      category      \n",
      " 7   is_member           bool          \n",
      " 8   duration            float32       \n",
      " 9   distance            float32       \n",
      " 10  started_time        float16       \n",
      " 11  week_day            int8          \n",
      " 12  month               int8          \n",
      " 13  day_of_year         uint16        \n",
      " 14  day                 int8          \n",
      "dtypes: bool(1), category(5), datetime64[ns](2), float16(1), float32(2), int8(3), uint16(1)\n",
      "memory usage: 202.5 MB\n"
     ]
    }
   ],
   "source": [
    "df.info(memory_usage=\"deep\")"
   ]
  },
  {
   "cell_type": "code",
   "execution_count": 30,
   "metadata": {},
   "outputs": [
    {
     "data": {
      "text/html": [
       "<div>\n",
       "<style scoped>\n",
       "    .dataframe tbody tr th:only-of-type {\n",
       "        vertical-align: middle;\n",
       "    }\n",
       "\n",
       "    .dataframe tbody tr th {\n",
       "        vertical-align: top;\n",
       "    }\n",
       "\n",
       "    .dataframe thead th {\n",
       "        text-align: right;\n",
       "    }\n",
       "</style>\n",
       "<table border=\"1\" class=\"dataframe\">\n",
       "  <thead>\n",
       "    <tr style=\"text-align: right;\">\n",
       "      <th></th>\n",
       "      <th>rideable_type</th>\n",
       "      <th>started_at</th>\n",
       "      <th>ended_at</th>\n",
       "      <th>start_station_name</th>\n",
       "      <th>start_station_id</th>\n",
       "      <th>end_station_name</th>\n",
       "      <th>end_station_id</th>\n",
       "      <th>is_member</th>\n",
       "      <th>duration</th>\n",
       "      <th>distance</th>\n",
       "      <th>started_time</th>\n",
       "      <th>week_day</th>\n",
       "      <th>month</th>\n",
       "      <th>day_of_year</th>\n",
       "      <th>day</th>\n",
       "    </tr>\n",
       "  </thead>\n",
       "  <tbody>\n",
       "    <tr>\n",
       "      <th>0</th>\n",
       "      <td>electric_bike</td>\n",
       "      <td>2022-01-13 11:59:47</td>\n",
       "      <td>2022-01-13 12:02:44</td>\n",
       "      <td>Glenwood Ave &amp; Touhy Ave</td>\n",
       "      <td>525</td>\n",
       "      <td>Clark St &amp; Touhy Ave</td>\n",
       "      <td>RP-007</td>\n",
       "      <td>False</td>\n",
       "      <td>2.950000</td>\n",
       "      <td>699.546753</td>\n",
       "      <td>12.000000</td>\n",
       "      <td>3</td>\n",
       "      <td>1</td>\n",
       "      <td>13</td>\n",
       "      <td>13</td>\n",
       "    </tr>\n",
       "    <tr>\n",
       "      <th>1</th>\n",
       "      <td>electric_bike</td>\n",
       "      <td>2022-01-10 08:41:56</td>\n",
       "      <td>2022-01-10 08:46:17</td>\n",
       "      <td>Glenwood Ave &amp; Touhy Ave</td>\n",
       "      <td>525</td>\n",
       "      <td>Clark St &amp; Touhy Ave</td>\n",
       "      <td>RP-007</td>\n",
       "      <td>False</td>\n",
       "      <td>4.350000</td>\n",
       "      <td>694.321716</td>\n",
       "      <td>8.695312</td>\n",
       "      <td>0</td>\n",
       "      <td>1</td>\n",
       "      <td>10</td>\n",
       "      <td>10</td>\n",
       "    </tr>\n",
       "    <tr>\n",
       "      <th>2</th>\n",
       "      <td>classic_bike</td>\n",
       "      <td>2022-01-25 04:53:40</td>\n",
       "      <td>2022-01-25 04:58:01</td>\n",
       "      <td>Sheffield Ave &amp; Fullerton Ave</td>\n",
       "      <td>TA1306000016</td>\n",
       "      <td>Greenview Ave &amp; Fullerton Ave</td>\n",
       "      <td>TA1307000001</td>\n",
       "      <td>True</td>\n",
       "      <td>4.350000</td>\n",
       "      <td>1000.832275</td>\n",
       "      <td>4.894531</td>\n",
       "      <td>1</td>\n",
       "      <td>1</td>\n",
       "      <td>25</td>\n",
       "      <td>25</td>\n",
       "    </tr>\n",
       "    <tr>\n",
       "      <th>3</th>\n",
       "      <td>classic_bike</td>\n",
       "      <td>2022-01-04 00:18:04</td>\n",
       "      <td>2022-01-04 00:33:00</td>\n",
       "      <td>Clark St &amp; Bryn Mawr Ave</td>\n",
       "      <td>KA1504000151</td>\n",
       "      <td>Paulina St &amp; Montrose Ave</td>\n",
       "      <td>TA1309000021</td>\n",
       "      <td>False</td>\n",
       "      <td>14.933333</td>\n",
       "      <td>2462.779297</td>\n",
       "      <td>0.301025</td>\n",
       "      <td>1</td>\n",
       "      <td>1</td>\n",
       "      <td>4</td>\n",
       "      <td>4</td>\n",
       "    </tr>\n",
       "    <tr>\n",
       "      <th>4</th>\n",
       "      <td>classic_bike</td>\n",
       "      <td>2022-01-20 01:31:10</td>\n",
       "      <td>2022-01-20 01:37:12</td>\n",
       "      <td>Michigan Ave &amp; Jackson Blvd</td>\n",
       "      <td>TA1309000002</td>\n",
       "      <td>State St &amp; Randolph St</td>\n",
       "      <td>TA1305000029</td>\n",
       "      <td>True</td>\n",
       "      <td>6.033333</td>\n",
       "      <td>814.537720</td>\n",
       "      <td>1.519531</td>\n",
       "      <td>3</td>\n",
       "      <td>1</td>\n",
       "      <td>20</td>\n",
       "      <td>20</td>\n",
       "    </tr>\n",
       "  </tbody>\n",
       "</table>\n",
       "</div>"
      ],
      "text/plain": [
       "   rideable_type          started_at            ended_at  \\\n",
       "0  electric_bike 2022-01-13 11:59:47 2022-01-13 12:02:44   \n",
       "1  electric_bike 2022-01-10 08:41:56 2022-01-10 08:46:17   \n",
       "2   classic_bike 2022-01-25 04:53:40 2022-01-25 04:58:01   \n",
       "3   classic_bike 2022-01-04 00:18:04 2022-01-04 00:33:00   \n",
       "4   classic_bike 2022-01-20 01:31:10 2022-01-20 01:37:12   \n",
       "\n",
       "              start_station_name start_station_id  \\\n",
       "0       Glenwood Ave & Touhy Ave              525   \n",
       "1       Glenwood Ave & Touhy Ave              525   \n",
       "2  Sheffield Ave & Fullerton Ave     TA1306000016   \n",
       "3       Clark St & Bryn Mawr Ave     KA1504000151   \n",
       "4    Michigan Ave & Jackson Blvd     TA1309000002   \n",
       "\n",
       "                end_station_name end_station_id  is_member   duration  \\\n",
       "0           Clark St & Touhy Ave         RP-007      False   2.950000   \n",
       "1           Clark St & Touhy Ave         RP-007      False   4.350000   \n",
       "2  Greenview Ave & Fullerton Ave   TA1307000001       True   4.350000   \n",
       "3      Paulina St & Montrose Ave   TA1309000021      False  14.933333   \n",
       "4         State St & Randolph St   TA1305000029       True   6.033333   \n",
       "\n",
       "      distance  started_time  week_day  month  day_of_year  day  \n",
       "0   699.546753     12.000000         3      1           13   13  \n",
       "1   694.321716      8.695312         0      1           10   10  \n",
       "2  1000.832275      4.894531         1      1           25   25  \n",
       "3  2462.779297      0.301025         1      1            4    4  \n",
       "4   814.537720      1.519531         3      1           20   20  "
      ]
     },
     "execution_count": 30,
     "metadata": {},
     "output_type": "execute_result"
    }
   ],
   "source": [
    "df.head()"
   ]
  },
  {
   "attachments": {},
   "cell_type": "markdown",
   "metadata": {},
   "source": [
    "Export prepered data"
   ]
  },
  {
   "cell_type": "code",
   "execution_count": 31,
   "metadata": {},
   "outputs": [],
   "source": [
    "df.to_parquet(\"data/preprocessed/dataset.parquet\")"
   ]
  },
  {
   "attachments": {},
   "cell_type": "markdown",
   "metadata": {},
   "source": [
    "Export to csv if needed, but take long time and 4 times more space"
   ]
  },
  {
   "cell_type": "code",
   "execution_count": 32,
   "metadata": {},
   "outputs": [],
   "source": [
    "#df.to_csv(\"data/preprocessed/dataset.csv\")"
   ]
  }
 ],
 "metadata": {
  "kernelspec": {
   "display_name": "pandas_env",
   "language": "python",
   "name": "python3"
  },
  "language_info": {
   "codemirror_mode": {
    "name": "ipython",
    "version": 3
   },
   "file_extension": ".py",
   "mimetype": "text/x-python",
   "name": "python",
   "nbconvert_exporter": "python",
   "pygments_lexer": "ipython3",
   "version": "3.8.16"
  },
  "orig_nbformat": 4
 },
 "nbformat": 4,
 "nbformat_minor": 2
}
